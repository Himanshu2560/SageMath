{
 "cells": [
  {
   "cell_type": "code",
   "execution_count": null,
   "id": "cell",
   "metadata": {},
   "outputs": [],
   "source": [
    "x = var('x')\n",
    "f = x^3 - 2*x^2 + x - 1\n",
    "factor(f)"
   ]
  }
 ],
 "metadata": {
  "kernelspec": {
   "display_name": "SageMath",
   "language": "sage",
   "name": "sagemath"
  },
  "language_info": {
   "name": "sage"
  }
 },
 "nbformat": 4,
 "nbformat_minor": 5
}
